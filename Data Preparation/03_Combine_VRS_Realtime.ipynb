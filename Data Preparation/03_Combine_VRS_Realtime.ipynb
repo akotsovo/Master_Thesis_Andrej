{
 "cells": [
  {
   "cell_type": "markdown",
   "metadata": {},
   "source": [
    "# 03: Combine VRS Realtime Data Part 1"
   ]
  },
  {
   "cell_type": "markdown",
   "metadata": {},
   "source": [
    "In this notebook, the VRS realtime data will be merged, aggregated and cleaned. So far, the data is seperated into thousands of single csv files."
   ]
  },
  {
   "cell_type": "markdown",
   "metadata": {},
   "source": [
    "Note: This notebooks the the data from the vrs.zip file where the realtime data come in multiple of thousands of csv files. "
   ]
  },
  {
   "cell_type": "markdown",
   "metadata": {},
   "source": [
    "Note: this notebooks was executed on local machine"
   ]
  },
  {
   "cell_type": "code",
   "execution_count": 1,
   "metadata": {},
   "outputs": [],
   "source": [
    "# import libraries\n",
    "import pandas as pd\n",
    "import numpy as np\n",
    "import sklearn\n",
    "from datetime import datetime\n",
    "import os"
   ]
  },
  {
   "cell_type": "code",
   "execution_count": 2,
   "metadata": {},
   "outputs": [],
   "source": [
    "# Here: set the month for which you want to aggregate the data\n",
    "data_month_single = '7'\n",
    "data_month_double = '07'"
   ]
  },
  {
   "cell_type": "code",
   "execution_count": null,
   "metadata": {},
   "outputs": [],
   "source": [
    "# get a list with all files for a day\n",
    "\n",
    "def file_names_for_each_day(day):\n",
    "\n",
    "    if day < 10:\n",
    "        day = '0' + str(day)\n",
    "\n",
    "    folder_path = '/Volumes/T7/Master/Raw Data/' + data_month_double + '/VRS Realtime Data/'  # Replace with the actual folder path\n",
    "    substring = '2023'+ data_month_double + str(day)  # Replace with the specific substring\n",
    "\n",
    "    file_names = []\n",
    "\n",
    "    for file_name in os.listdir(folder_path):\n",
    "        if substring in file_name:\n",
    "            file_names.append(file_name)\n",
    "\n",
    "    return file_names\n"
   ]
  },
  {
   "cell_type": "code",
   "execution_count": null,
   "metadata": {},
   "outputs": [],
   "source": [
    "data = pd.DataFrame({}, columns=range(1, 32))"
   ]
  },
  {
   "cell_type": "code",
   "execution_count": null,
   "metadata": {},
   "outputs": [],
   "source": [
    "# create a dataframe with all files for each day in a month\n",
    "for i in range(1,32):\n",
    "    file_list = file_names_for_each_day(i)\n",
    "    file_df = pd.DataFrame(file_list, columns=[i])\n",
    "    data[i] = file_df\n",
    "    "
   ]
  },
  {
   "cell_type": "code",
   "execution_count": null,
   "metadata": {},
   "outputs": [],
   "source": [
    "data = data.drop(data.index[1::2])"
   ]
  },
  {
   "cell_type": "code",
   "execution_count": null,
   "metadata": {},
   "outputs": [],
   "source": [
    "data.reset_index(drop=True, inplace=True)"
   ]
  },
  {
   "cell_type": "code",
   "execution_count": null,
   "metadata": {},
   "outputs": [],
   "source": [
    "\n",
    "def convert_times(dataframe): # convert values of stop_arrival_time and stop_departure_time to datetime\n",
    "    for index, row in dataframe.iterrows():\n",
    "\n",
    "        if row['stop_arrival_time'] == 0:\n",
    "            dataframe.loc[index, 'stop_arrival_time'] = 0\n",
    "        else:\n",
    "            dataframe.loc[index, 'stop_arrival_time'] = datetime.fromtimestamp(int(row['stop_arrival_time']))\n",
    "\n",
    "        if row['stop_departure_time'] == 0:\n",
    "            dataframe.loc[index, 'stop_departure_time'] = 0\n",
    "        else:\n",
    "            dataframe.loc[index, 'stop_departure_time'] = datetime.fromtimestamp(int(row['stop_departure_time']))\n",
    "    \n",
    "    return dataframe"
   ]
  },
  {
   "cell_type": "code",
   "execution_count": null,
   "metadata": {},
   "outputs": [],
   "source": [
    "# combine the different csv files for each day\n",
    "def merge_day():\n",
    "\n",
    "    month_df = pd.DataFrame()\n",
    "\n",
    "    for i in range(1, 32): # start with 1, change if kernel dies to last day before kernel dies\n",
    "        day_df = pd.DataFrame()\n",
    "\n",
    "        for j in range(0, len(data[i])-1):\n",
    "         \n",
    "            if pd.isna(data[i][j]):\n",
    "                continue\n",
    "                \n",
    "            data_string = str(data[i][j])\n",
    "         \n",
    "            temp_df = pd.DataFrame(pd.read_csv(\"/Volumes/T7/Master/Raw Data/\"+ data_month_double + \"/VRS Realtime Data/\"+data_string))\n",
    "\n",
    "            converted_data = convert_times(temp_df)\n",
    "\n",
    "            converted_data['filename'] = data_string\n",
    "\n",
    "            day_df = pd.concat([day_df, converted_data])\n",
    "\n",
    "        day_df.to_csv('/Volumes/T7/Master/Processed Data/'+ data_month_double + '/day_df_'+str(i)+'.csv', index=False)\n",
    "\n",
    "        month_df = pd.concat([month_df, day_df]) \n",
    "\n",
    "    month_df.to_csv('/Volumes/T7/Master/Processed Data/'+ data_month_double + '/month_df.csv', index=False) \n",
    "        "
   ]
  },
  {
   "cell_type": "code",
   "execution_count": null,
   "metadata": {},
   "outputs": [],
   "source": [
    "merge_day()"
   ]
  },
  {
   "cell_type": "code",
   "execution_count": null,
   "metadata": {},
   "outputs": [],
   "source": [
    "# load each day dataframe\n",
    "# can only load 10 days at a time, otherwise kernel dies\n",
    "one = pd.DataFrame(pd.read_csv('/Volumes/T7/Master/Processed Data/' + data_month_double + '/day_df_1.csv')) \n",
    "two = pd.DataFrame(pd.read_csv('/Volumes/T7/Master/Processed Data/' + data_month_double + '/day_df_2.csv')) \n",
    "three = pd.DataFrame(pd.read_csv('/Volumes/T7/Master/Processed Data/' + data_month_double + '/day_df_3.csv'))\n",
    "four = pd.DataFrame(pd.read_csv('/Volumes/T7/Master/Processed Data/' + data_month_double + '/day_df_4.csv'))\n",
    "five = pd.DataFrame(pd.read_csv('/Volumes/T7/Master/Processed Data/' + data_month_double + '/day_df_5.csv'))\n",
    "six = pd.DataFrame(pd.read_csv('/Volumes/T7/Master/Processed Data/' + data_month_double + '/day_df_6.csv'))\n",
    "seven = pd.DataFrame(pd.read_csv('/Volumes/T7/Master/Processed Data/' + data_month_double + '/day_df_7.csv'))\n",
    "eight = pd.DataFrame(pd.read_csv('/Volumes/T7/Master/Processed Data/' + data_month_double + '/day_df_8.csv'))\n",
    "nine = pd.DataFrame(pd.read_csv('/Volumes/T7/Master/Processed Data/' + data_month_double + '/day_df_9.csv'))\n",
    "ten = pd.DataFrame(pd.read_csv('/Volumes/T7/Master/Processed Data/' + data_month_double + '/day_df_10.csv'))"
   ]
  },
  {
   "cell_type": "code",
   "execution_count": null,
   "metadata": {},
   "outputs": [],
   "source": [
    "# now concat the dataframes:"
   ]
  },
  {
   "cell_type": "code",
   "execution_count": null,
   "metadata": {},
   "outputs": [],
   "source": [
    "df = pd.concat([one, two])"
   ]
  },
  {
   "cell_type": "code",
   "execution_count": null,
   "metadata": {},
   "outputs": [],
   "source": [
    "df = pd.concat([df, three])"
   ]
  },
  {
   "cell_type": "code",
   "execution_count": null,
   "metadata": {},
   "outputs": [],
   "source": [
    "df = pd.concat([df, four])"
   ]
  },
  {
   "cell_type": "code",
   "execution_count": null,
   "metadata": {},
   "outputs": [],
   "source": [
    "df = pd.concat([df, five])"
   ]
  },
  {
   "cell_type": "code",
   "execution_count": null,
   "metadata": {},
   "outputs": [],
   "source": [
    "df = pd.concat([df, six])"
   ]
  },
  {
   "cell_type": "code",
   "execution_count": null,
   "metadata": {},
   "outputs": [],
   "source": [
    "df = pd.concat([df, seven])"
   ]
  },
  {
   "cell_type": "code",
   "execution_count": null,
   "metadata": {},
   "outputs": [],
   "source": [
    "df = pd.concat([df, eight])"
   ]
  },
  {
   "cell_type": "code",
   "execution_count": null,
   "metadata": {},
   "outputs": [],
   "source": [
    "df = pd.concat([df, nine])"
   ]
  },
  {
   "cell_type": "code",
   "execution_count": null,
   "metadata": {},
   "outputs": [],
   "source": [
    "df = pd.concat([df, ten])"
   ]
  },
  {
   "cell_type": "code",
   "execution_count": null,
   "metadata": {},
   "outputs": [],
   "source": [
    "# export the dataframe to a csv file\n",
    "# need to be done in chunks, otherwise kernel dies\n",
    "df.to_csv('/Volumes/T7/Master/Processed Data/'+ data_month_double + '/vrs_real_1.csv', index=False)"
   ]
  },
  {
   "cell_type": "code",
   "execution_count": null,
   "metadata": {},
   "outputs": [],
   "source": [
    "eleven = pd.DataFrame(pd.read_csv('/Volumes/T7/Master/Processed Data/' + data_month_double + '/day_df_11.csv')) \n",
    "twelve = pd.DataFrame(pd.read_csv('/Volumes/T7/Master/Processed Data/' + data_month_double + '/day_df_12.csv'))\n",
    "thirteen = pd.DataFrame(pd.read_csv('/Volumes/T7/Master/Processed Data/' + data_month_double + '/day_df_13.csv'))\n",
    "fourteen = pd.DataFrame(pd.read_csv('/Volumes/T7/Master/Processed Data/' + data_month_double + '/day_df_14.csv'))\n",
    "fifteen = pd.DataFrame(pd.read_csv('/Volumes/T7/Master/Processed Data/' + data_month_double + '/day_df_15.csv'))\n",
    "sixteen = pd.DataFrame(pd.read_csv('/Volumes/T7/Master/Processed Data/' + data_month_double + '/day_df_16.csv'))\n",
    "seventeen = pd.DataFrame(pd.read_csv('/Volumes/T7/Master/Processed Data/' + data_month_double + '/day_df_17.csv'))\n",
    "eighteen = pd.DataFrame(pd.read_csv('/Volumes/T7/Master/Processed Data/' + data_month_double + '/day_df_18.csv'))\n",
    "nineteen = pd.DataFrame(pd.read_csv('/Volumes/T7/Master/Processed Data/' + data_month_double + '/day_df_19.csv'))\n",
    "twenty = pd.DataFrame(pd.read_csv('/Volumes/T7/Master/Processed Data/' + data_month_double + '/day_df_20.csv'))"
   ]
  },
  {
   "cell_type": "code",
   "execution_count": null,
   "metadata": {},
   "outputs": [],
   "source": [
    "df1 = pd.concat([eleven, twelve])"
   ]
  },
  {
   "cell_type": "code",
   "execution_count": null,
   "metadata": {},
   "outputs": [],
   "source": [
    "df1 = pd.concat([df1, thirteen])"
   ]
  },
  {
   "cell_type": "code",
   "execution_count": null,
   "metadata": {},
   "outputs": [],
   "source": [
    "df1 = pd.concat([df1, fourteen])"
   ]
  },
  {
   "cell_type": "code",
   "execution_count": null,
   "metadata": {},
   "outputs": [],
   "source": [
    "df1 = pd.concat([df1, fifteen])"
   ]
  },
  {
   "cell_type": "code",
   "execution_count": null,
   "metadata": {},
   "outputs": [],
   "source": [
    "df1 = pd.concat([df1, sixteen])"
   ]
  },
  {
   "cell_type": "code",
   "execution_count": null,
   "metadata": {},
   "outputs": [],
   "source": [
    "df1 = pd.concat([df1, seventeen])"
   ]
  },
  {
   "cell_type": "code",
   "execution_count": null,
   "metadata": {},
   "outputs": [],
   "source": [
    "df1 = pd.concat([df1, eighteen])"
   ]
  },
  {
   "cell_type": "code",
   "execution_count": null,
   "metadata": {},
   "outputs": [],
   "source": [
    "df1 = pd.concat([df1, nineteen])"
   ]
  },
  {
   "cell_type": "code",
   "execution_count": null,
   "metadata": {},
   "outputs": [],
   "source": [
    "df1 = pd.concat([df1, twenty])"
   ]
  },
  {
   "cell_type": "code",
   "execution_count": null,
   "metadata": {},
   "outputs": [],
   "source": [
    "df1.to_csv('/Volumes/T7/Master/Processed Data/'+ data_month_double + '/vrs_real_2.csv', index=False)"
   ]
  },
  {
   "cell_type": "code",
   "execution_count": 3,
   "metadata": {},
   "outputs": [],
   "source": [
    "twentyone = pd.DataFrame(pd.read_csv('/Volumes/T7/Master/Processed Data/' + data_month_double + '/day_df_21.csv')) \n",
    "twentytwo = pd.DataFrame(pd.read_csv('/Volumes/T7/Master/Processed Data/' + data_month_double + '/day_df_22.csv'))\n",
    "twentythree = pd.DataFrame(pd.read_csv('/Volumes/T7/Master/Processed Data/' + data_month_double + '/day_df_23.csv'))\n",
    "twentyfour = pd.DataFrame(pd.read_csv('/Volumes/T7/Master/Processed Data/' + data_month_double + '/day_df_24.csv'))\n",
    "twentyfive = pd.DataFrame(pd.read_csv('/Volumes/T7/Master/Processed Data/' + data_month_double + '/day_df_25.csv'))\n",
    "twentysix = pd.DataFrame(pd.read_csv('/Volumes/T7/Master/Processed Data/' + data_month_double + '/day_df_26.csv'))\n",
    "twentyseven = pd.DataFrame(pd.read_csv('/Volumes/T7/Master/Processed Data/' + data_month_double + '/day_df_27.csv'))\n",
    "twentyeight = pd.DataFrame(pd.read_csv('/Volumes/T7/Master/Processed Data/' + data_month_double + '/day_df_28.csv'))\n",
    "twentynine = pd.DataFrame(pd.read_csv('/Volumes/T7/Master/Processed Data/' + data_month_double + '/day_df_29.csv'))\n",
    "thirty = pd.DataFrame(pd.read_csv('/Volumes/T7/Master/Processed Data/' + data_month_double + '/day_df_30.csv'))\n",
    "thirtyone = pd.DataFrame(pd.read_csv('/Volumes/T7/Master/Processed Data/' + data_month_double + '/day_df_31.csv'))"
   ]
  },
  {
   "cell_type": "code",
   "execution_count": 4,
   "metadata": {},
   "outputs": [],
   "source": [
    "df2 = pd.concat([twentyone, twentytwo])"
   ]
  },
  {
   "cell_type": "code",
   "execution_count": 5,
   "metadata": {},
   "outputs": [],
   "source": [
    "df2 = pd.concat([df2, twentythree])"
   ]
  },
  {
   "cell_type": "code",
   "execution_count": 6,
   "metadata": {},
   "outputs": [],
   "source": [
    "df2 = pd.concat([df2, twentyfour])"
   ]
  },
  {
   "cell_type": "code",
   "execution_count": 7,
   "metadata": {},
   "outputs": [],
   "source": [
    "df2 = pd.concat([df2, twentyfive])"
   ]
  },
  {
   "cell_type": "code",
   "execution_count": 8,
   "metadata": {},
   "outputs": [],
   "source": [
    "df2 = pd.concat([df2, twentysix])"
   ]
  },
  {
   "cell_type": "code",
   "execution_count": 9,
   "metadata": {},
   "outputs": [],
   "source": [
    "df2 = pd.concat([df2, twentyseven])"
   ]
  },
  {
   "cell_type": "code",
   "execution_count": 10,
   "metadata": {},
   "outputs": [],
   "source": [
    "df2 = pd.concat([df2, twentyeight])"
   ]
  },
  {
   "cell_type": "code",
   "execution_count": 11,
   "metadata": {},
   "outputs": [],
   "source": [
    "df2 = pd.concat([df2, twentynine])"
   ]
  },
  {
   "cell_type": "code",
   "execution_count": 12,
   "metadata": {},
   "outputs": [],
   "source": [
    "df2 = pd.concat([df2, thirty])"
   ]
  },
  {
   "cell_type": "code",
   "execution_count": 13,
   "metadata": {},
   "outputs": [],
   "source": [
    "df2 = pd.concat([df2, thirtyone])"
   ]
  },
  {
   "cell_type": "code",
   "execution_count": 15,
   "metadata": {},
   "outputs": [],
   "source": [
    "df2.to_csv('/Volumes/T7/Master/Processed Data/'+ data_month_double + '/vrs_real_3.csv', index=False)"
   ]
  }
 ],
 "metadata": {
  "kernelspec": {
   "display_name": "Python 3 (ipykernel)",
   "language": "python",
   "name": "python3"
  },
  "language_info": {
   "codemirror_mode": {
    "name": "ipython",
    "version": 3
   },
   "file_extension": ".py",
   "mimetype": "text/x-python",
   "name": "python",
   "nbconvert_exporter": "python",
   "pygments_lexer": "ipython3",
   "version": "3.9.7"
  }
 },
 "nbformat": 4,
 "nbformat_minor": 4
}
